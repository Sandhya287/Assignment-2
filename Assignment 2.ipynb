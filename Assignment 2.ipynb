{
 "cells": [
  {
   "cell_type": "code",
   "execution_count": null,
   "id": "a1369942-9295-40c0-ad70-460fffa74203",
   "metadata": {},
   "outputs": [],
   "source": [
    "#Q1. How do you comment code in Python? What are the different types of comments?\n",
    "\n",
    "\n",
    "In Python, comments are used to annotate and document code. Comments are ignored by the Python interpreter and are purely for the benefit of developers to understand the code better. There are two main types of comments in Python:\n",
    "\n",
    "Single-line comments: Single-line comments begin with the hash symbol (#). Everything following the # on that line is considered a comment.\n",
    "    \n"
   ]
  },
  {
   "cell_type": "code",
   "execution_count": 1,
   "id": "d1eaf7f2-01d0-4374-9078-e0df66fb6e4c",
   "metadata": {},
   "outputs": [
    {
     "name": "stdout",
     "output_type": "stream",
     "text": [
      "Hello, World!\n"
     ]
    }
   ],
   "source": [
    "# This is a single-line comment\n",
    "\n",
    "print(\"Hello, World!\")  # This is also a comment after code\n"
   ]
  },
  {
   "cell_type": "code",
   "execution_count": null,
   "id": "7134bfa5-c548-48ac-83e0-f9d377b8026f",
   "metadata": {},
   "outputs": [],
   "source": [
    "Multi-line comments: Python does not have a specific syntax for multi-line comments like some other programming languages do. However, you can use triple quotes (single or double) to create multi-line strings, and these strings are often used as a way to include multi-line comments. While the interpreter will treat these as strings, they serve the purpose of comments.\n"
   ]
  },
  {
   "cell_type": "code",
   "execution_count": 2,
   "id": "422be0a8-042a-468d-8674-4eb7e45d8b8b",
   "metadata": {},
   "outputs": [
    {
     "name": "stdout",
     "output_type": "stream",
     "text": [
      "Hello, World!\n"
     ]
    },
    {
     "data": {
      "text/plain": [
       "'\\nThis is another way to create\\na multi-line comment using triple double quotes.\\n'"
      ]
     },
     "execution_count": 2,
     "metadata": {},
     "output_type": "execute_result"
    }
   ],
   "source": [
    "'''\n",
    "This is a multi-line comment\n",
    "in Python using triple single quotes.\n",
    "'''\n",
    "print(\"Hello, World!\")\n",
    "\n",
    "\"\"\"\n",
    "This is another way to create\n",
    "a multi-line comment using triple double quotes.\n",
    "\"\"\"\n"
   ]
  },
  {
   "cell_type": "code",
   "execution_count": null,
   "id": "e7979cc7-e436-4089-ba5a-18c53663ef99",
   "metadata": {},
   "outputs": [],
   "source": [
    "#Q2. What are variables in Python? How do you declare and assign values to variables?\n",
    "\n",
    "In Python, variables are used to store and manage data. A variable is essentially a name given to a memory location that stores data. Unlike some other programming languages, you don't need to explicitly declare the type of a variable in Python; the interpreter automatically determines the type based on the assigned value.\n",
    "\n",
    "Here's how you declare and assign values to variables in Python:\n"
   ]
  },
  {
   "cell_type": "code",
   "execution_count": null,
   "id": "0b3d609e-34c9-4994-abde-0d5cd8f944f1",
   "metadata": {},
   "outputs": [],
   "source": [
    "# Variable declaration and assignment\n",
    "variable_name = value\n",
    "\n",
    "# Example\n",
    "age = 25\n",
    "name = \"John\"\n",
    "is_student = True\n",
    "\n",
    "# Output the values\n",
    "print(\"Age:\", age)\n",
    "print(\"Name:\", name)\n",
    "print(\"Is Student:\", is_student)\n"
   ]
  },
  {
   "cell_type": "code",
   "execution_count": null,
   "id": "fde7916b-2307-4bb5-95ee-a49cceb10853",
   "metadata": {},
   "outputs": [],
   "source": [
    "#Q3. How do you convert one data type to another in Python?\n",
    "\n",
    "In Python, you can convert one data type to another through a process called \"type casting\" or \"type conversion.\" Python provides several built-in functions for this purpose. Here are some common type conversion functions:\n",
    "    \n",
    "    \n",
    "   1. int(): Converts a number or a string containing a whole number to an integer."
   ]
  },
  {
   "cell_type": "code",
   "execution_count": 6,
   "id": "783bea48-6d0a-43af-bbd4-483d98190871",
   "metadata": {},
   "outputs": [
    {
     "name": "stdout",
     "output_type": "stream",
     "text": [
      "123\n"
     ]
    }
   ],
   "source": [
    "num_str = \"123\"\n",
    "num_int = int(num_str)\n",
    "print(num_int)  # Output: 123\n"
   ]
  },
  {
   "cell_type": "code",
   "execution_count": null,
   "id": "7dd489a3-a2bf-477f-99c9-e6ab56674389",
   "metadata": {},
   "outputs": [],
   "source": [
    "2. float(): Converts a number or a string containing a decimal number to a floating-point number."
   ]
  },
  {
   "cell_type": "code",
   "execution_count": 7,
   "id": "bea69b68-2908-473b-9b19-335b618edbd6",
   "metadata": {},
   "outputs": [
    {
     "name": "stdout",
     "output_type": "stream",
     "text": [
      "3.14\n"
     ]
    }
   ],
   "source": [
    "num_str = \"3.14\"\n",
    "num_float = float(num_str)\n",
    "print(num_float)  # Output: 3.14\n"
   ]
  },
  {
   "cell_type": "code",
   "execution_count": null,
   "id": "f556735b-85d3-41ca-9ce1-71c0bc1b8862",
   "metadata": {},
   "outputs": [],
   "source": [
    "3. str(): Converts an object to a string representation."
   ]
  },
  {
   "cell_type": "code",
   "execution_count": 8,
   "id": "613eb873-5f43-4303-a5b2-f7c851e5b9d3",
   "metadata": {},
   "outputs": [
    {
     "name": "stdout",
     "output_type": "stream",
     "text": [
      "42\n"
     ]
    }
   ],
   "source": [
    "num = 42\n",
    "num_str = str(num)\n",
    "print(num_str)  # Output: '42'\n"
   ]
  },
  {
   "cell_type": "code",
   "execution_count": null,
   "id": "bd8dffbb-8dc4-4289-8952-e7767f6128cb",
   "metadata": {},
   "outputs": [],
   "source": [
    "4. bool(): Converts an object to a boolean value. In general, any non-zero or non-empty object is considered True, and 0, None, and empty objects are considered False."
   ]
  },
  {
   "cell_type": "code",
   "execution_count": 9,
   "id": "a54a7621-dce5-4359-874b-200d875e7e7e",
   "metadata": {},
   "outputs": [
    {
     "name": "stdout",
     "output_type": "stream",
     "text": [
      "False\n"
     ]
    }
   ],
   "source": [
    "num = 0\n",
    "bool_value = bool(num)\n",
    "print(bool_value)  # Output: False\n"
   ]
  },
  {
   "cell_type": "code",
   "execution_count": null,
   "id": "dfd40c31-8989-449d-91a9-cefa17c8e6b8",
   "metadata": {},
   "outputs": [],
   "source": [
    "5. list(), tuple(), set(): Converts other iterable objects (like strings or lists) to lists, tuples, or sets, respectively.\n"
   ]
  },
  {
   "cell_type": "code",
   "execution_count": 10,
   "id": "5f2b2c73-812d-42bd-8efb-5c0e893fe34e",
   "metadata": {},
   "outputs": [
    {
     "name": "stdout",
     "output_type": "stream",
     "text": [
      "['h', 'e', 'l', 'l', 'o']\n"
     ]
    }
   ],
   "source": [
    "str_value = \"hello\"\n",
    "list_value = list(str_value)\n",
    "print(list_value)  # Output: ['h', 'e', 'l', 'l', 'o']\n"
   ]
  },
  {
   "cell_type": "code",
   "execution_count": null,
   "id": "ab8e89fc-ead9-4cda-b7ab-2ba78dbed946",
   "metadata": {},
   "outputs": [],
   "source": [
    "6. dict(): Converts a sequence of key-value pairs into a dictionary.\n",
    "\n"
   ]
  },
  {
   "cell_type": "code",
   "execution_count": 11,
   "id": "e3257aa5-c5d9-414e-877b-ed253fd16cc9",
   "metadata": {},
   "outputs": [
    {
     "name": "stdout",
     "output_type": "stream",
     "text": [
      "{'a': 1, 'b': 2}\n"
     ]
    }
   ],
   "source": [
    "pairs = [('a', 1), ('b', 2)]\n",
    "dictionary = dict(pairs)\n",
    "print(dictionary)  # Output: {'a': 1, 'b': 2}\n"
   ]
  },
  {
   "cell_type": "code",
   "execution_count": null,
   "id": "ca619c85-e8b6-4caa-8116-1f97734a7258",
   "metadata": {},
   "outputs": [],
   "source": [
    "#Q4. How do you write and execute a Python script from the command line?"
   ]
  },
  {
   "cell_type": "code",
   "execution_count": null,
   "id": "0a15125f-af68-4bd0-8681-0b9108f90e41",
   "metadata": {},
   "outputs": [],
   "source": [
    "To write and execute a Python script from the command line, you can follow these steps:\n",
    "\n",
    "1. Write a Python Script:\n",
    "Open a text editor and write your Python script. Save the file with a .py extension. For example, you can create a file named myscript.py with the following content:"
   ]
  },
  {
   "cell_type": "code",
   "execution_count": 12,
   "id": "a97844ac-7150-41cf-9ca0-720612d8f1fd",
   "metadata": {},
   "outputs": [
    {
     "name": "stdout",
     "output_type": "stream",
     "text": [
      "Hello, World!\n"
     ]
    }
   ],
   "source": [
    "# myscript.py\n",
    "print(\"Hello, World!\")\n"
   ]
  },
  {
   "cell_type": "code",
   "execution_count": null,
   "id": "2ea6291a-8281-4fd0-85ba-4e9c647d4461",
   "metadata": {},
   "outputs": [],
   "source": [
    "2. Open the Command Line / Terminal:\n",
    "Open the command line or terminal on your operating system.\n",
    "\n",
    "3. Navigate to the Script's Directory (Optional):\n",
    "If your script is not in the current working directory of the command line, navigate to the directory where your script is located using the cd command."
   ]
  },
  {
   "cell_type": "code",
   "execution_count": null,
   "id": "91159639-bbea-406f-806a-9a6c4ede8a73",
   "metadata": {},
   "outputs": [],
   "source": [
    "cd path/to/script/directory\n"
   ]
  },
  {
   "cell_type": "code",
   "execution_count": null,
   "id": "3ea6f086-6654-4c15-a929-44bb22809c76",
   "metadata": {},
   "outputs": [],
   "source": [
    "4. Execute the Python Script:\n",
    "Run the Python script using the python command followed by the script's filename.\n",
    "\n"
   ]
  },
  {
   "cell_type": "code",
   "execution_count": null,
   "id": "187306c2-1529-4015-a489-e519ab6d8b32",
   "metadata": {},
   "outputs": [],
   "source": [
    "python myscript.py\n",
    "\n",
    "\n",
    "#If you are using Python 3, you might need to use python3 instead of python:\n",
    "\n",
    "python3 myscript.py\n",
    "\n",
    "\n",
    "After executing the command, you should see the output of your script on the command line.\n",
    "\n",
    "Copy code\n",
    "Hello, World!"
   ]
  },
  {
   "cell_type": "code",
   "execution_count": null,
   "id": "34bdbe78-ac96-46a8-a0db-53bc5f72e96a",
   "metadata": {},
   "outputs": [],
   "source": [
    "#Q5. Given a list my_list = [1, 2, 3, 4, 5], write the code to slice the list and obtain the sub-list [2, 3]."
   ]
  },
  {
   "cell_type": "code",
   "execution_count": 14,
   "id": "c32503f5-339f-4e21-8755-1041a75f3134",
   "metadata": {},
   "outputs": [
    {
     "name": "stdout",
     "output_type": "stream",
     "text": [
      "[2, 3]\n"
     ]
    }
   ],
   "source": [
    "# Given list\n",
    "my_list = [1, 2, 3, 4, 5]\n",
    "\n",
    "# Slice the list to obtain the sub-list [2, 3]\n",
    "sub_list = my_list[1:3]\n",
    "\n",
    "# Output\n",
    "print(sub_list)\n"
   ]
  },
  {
   "cell_type": "code",
   "execution_count": null,
   "id": "82ac42bf-8d7e-4076-a380-a5f4d49c9776",
   "metadata": {},
   "outputs": [],
   "source": [
    "#Q6. What is a complex number in mathematics, and how is it represented in Python?"
   ]
  },
  {
   "cell_type": "code",
   "execution_count": null,
   "id": "f4afb548-ab69-4d63-8d6e-cffcb57cfde1",
   "metadata": {},
   "outputs": [],
   "source": [
    "n mathematics, a complex number is a number of the form a + bi, where a and b are real numbers, and i is the imaginary unit (defined as the square root of -1). The real part is a, and the imaginary part is b. Complex numbers extend the real numbers by introducing the imaginary unit, allowing representation of quantities involving the square root of negative numbers.\n",
    "\n",
    "In Python, complex numbers are represented using the complex data type. The imaginary part is denoted by a j or J suffix. Here's an example:"
   ]
  },
  {
   "cell_type": "code",
   "execution_count": 15,
   "id": "eb4b61c7-afc7-4514-ab54-ce3bcd49e100",
   "metadata": {},
   "outputs": [
    {
     "name": "stdout",
     "output_type": "stream",
     "text": [
      "(3+2j)\n",
      "Real Part: 3.0\n",
      "Imaginary Part: 2.0\n"
     ]
    }
   ],
   "source": [
    "# Creating a complex number\n",
    "z = 3 + 2j\n",
    "\n",
    "# Displaying the complex number\n",
    "print(z)  # Output: (3+2j)\n",
    "\n",
    "# Accessing real and imaginary parts\n",
    "real_part = z.real\n",
    "imaginary_part = z.imag\n",
    "\n",
    "# Displaying real and imaginary parts\n",
    "print(\"Real Part:\", real_part)          # Output: Real Part: 3.0\n",
    "print(\"Imaginary Part:\", imaginary_part) # Output: Imaginary Part: 2.0\n"
   ]
  },
  {
   "cell_type": "code",
   "execution_count": null,
   "id": "27497c42-b309-4a96-86c6-0b518a4dd101",
   "metadata": {},
   "outputs": [],
   "source": [
    "#Q7. What is the correct way to declare a variable named age and assign the value 25 to it?"
   ]
  },
  {
   "cell_type": "code",
   "execution_count": null,
   "id": "6c7167b1-42a4-467c-8031-ee336e3d72b5",
   "metadata": {},
   "outputs": [],
   "source": [
    "The correct way to declare a variable named age and assign the value 25 to it in Python is as follows:"
   ]
  },
  {
   "cell_type": "code",
   "execution_count": 16,
   "id": "69c7aa1f-e832-468f-af79-933ea04b98ff",
   "metadata": {},
   "outputs": [],
   "source": [
    "age = 25"
   ]
  },
  {
   "cell_type": "code",
   "execution_count": null,
   "id": "a19da935-81a4-4114-9d56-5167249bfa98",
   "metadata": {},
   "outputs": [],
   "source": [
    "#Q8. Declare a variable named price and assign the value 9.99 to it. What data type does this variable\n",
    "belong to?\n",
    "\n",
    "\n",
    "To declare a variable named price and assign the value 9.99 to it, you can use the following code:"
   ]
  },
  {
   "cell_type": "code",
   "execution_count": null,
   "id": "d9c4e33b-64c3-43d0-b0d4-28ee571f5154",
   "metadata": {},
   "outputs": [],
   "source": [
    "price = 9.99\n",
    "\n",
    "The variable price belongs to the float data type. In Python, numbers with a decimal point are automatically considered floating-point numbers, and the float data type is used to represent them.\n"
   ]
  },
  {
   "cell_type": "code",
   "execution_count": null,
   "id": "25ea9ff9-7c90-4d1a-8e47-138e4b46e355",
   "metadata": {},
   "outputs": [],
   "source": [
    "#Q9. Create a variable named name and assign your full name to it as a string. How would you print the\n",
    "value of this variable?"
   ]
  },
  {
   "cell_type": "code",
   "execution_count": 17,
   "id": "783fef91-4abb-40a4-bb28-31f74052fe9f",
   "metadata": {},
   "outputs": [
    {
     "name": "stdout",
     "output_type": "stream",
     "text": [
      "C Sandhya Lakshmi\n"
     ]
    }
   ],
   "source": [
    "name = \"C Sandhya Lakshmi\"\n",
    "\n",
    "print (name)\n"
   ]
  },
  {
   "cell_type": "code",
   "execution_count": null,
   "id": "f587c5c2-6392-40ca-adfe-b5a1a4914610",
   "metadata": {},
   "outputs": [],
   "source": [
    "#Q10. Given the string \"Hello, World!\", extract the substring \"World\"."
   ]
  },
  {
   "cell_type": "code",
   "execution_count": 18,
   "id": "2a15f58b-975d-40d9-baf8-19ccd9e100f7",
   "metadata": {},
   "outputs": [
    {
     "name": "stdout",
     "output_type": "stream",
     "text": [
      "World\n"
     ]
    }
   ],
   "source": [
    "original_string = \"Hello, World!\"\n",
    "\n",
    "# Extracting the substring \"World\"\n",
    "substring = original_string[7:12]\n",
    "\n",
    "# Output\n",
    "print(substring)\n"
   ]
  },
  {
   "cell_type": "code",
   "execution_count": null,
   "id": "5f926b8a-daa6-44bf-901d-c85711b6bff1",
   "metadata": {},
   "outputs": [],
   "source": [
    "#Q11. Create a variable named \"is_student\" and assign it a boolean value indicating whether you are\n",
    "currently a student or not."
   ]
  },
  {
   "cell_type": "code",
   "execution_count": 19,
   "id": "f836d055-02e3-44c2-8f75-2f1f3e16d993",
   "metadata": {},
   "outputs": [],
   "source": [
    "is_student = True  \n"
   ]
  },
  {
   "cell_type": "code",
   "execution_count": null,
   "id": "e33048c5-d76e-4cc6-9c99-43ba0b5ef5ee",
   "metadata": {},
   "outputs": [],
   "source": []
  }
 ],
 "metadata": {
  "kernelspec": {
   "display_name": "Python 3 (ipykernel)",
   "language": "python",
   "name": "python3"
  },
  "language_info": {
   "codemirror_mode": {
    "name": "ipython",
    "version": 3
   },
   "file_extension": ".py",
   "mimetype": "text/x-python",
   "name": "python",
   "nbconvert_exporter": "python",
   "pygments_lexer": "ipython3",
   "version": "3.10.8"
  }
 },
 "nbformat": 4,
 "nbformat_minor": 5
}
